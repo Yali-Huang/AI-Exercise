{
 "cells": [
  {
   "cell_type": "markdown",
   "metadata": {
    "id": "Nl3qFdxFcLUT"
   },
   "source": [
    "# Bayesian Inference  \n",
    "Blew is the number of students distribution on abanse and grade marks in a school. Our purpose is to calculate the probability of Grade A students, given has high abanse."
   ]
  },
  {
   "cell_type": "code",
   "execution_count": 1,
   "metadata": {
    "ExecuteTime": {
     "end_time": "2021-01-26T23:31:04.491657Z",
     "start_time": "2021-01-26T23:31:03.593020Z"
    },
    "colab": {
     "base_uri": "https://localhost:8080/",
     "height": 110
    },
    "executionInfo": {
     "elapsed": 275,
     "status": "ok",
     "timestamp": 1611677034004,
     "user": {
      "displayName": "Yali Huang",
      "photoUrl": "",
      "userId": "13271621159630270554"
     },
     "user_tz": 300
    },
    "id": "_hY9XCs8PzLv",
    "outputId": "fe5a299b-a53e-4fc6-a83e-f7def45de44f"
   },
   "outputs": [
    {
     "data": {
      "text/html": [
       "<div>\n",
       "<style scoped>\n",
       "    .dataframe tbody tr th:only-of-type {\n",
       "        vertical-align: middle;\n",
       "    }\n",
       "\n",
       "    .dataframe tbody tr th {\n",
       "        vertical-align: top;\n",
       "    }\n",
       "\n",
       "    .dataframe thead th {\n",
       "        text-align: right;\n",
       "    }\n",
       "</style>\n",
       "<table border=\"1\" class=\"dataframe\">\n",
       "  <thead>\n",
       "    <tr style=\"text-align: right;\">\n",
       "      <th></th>\n",
       "      <th>Low Abanse</th>\n",
       "      <th>High Abanse</th>\n",
       "    </tr>\n",
       "  </thead>\n",
       "  <tbody>\n",
       "    <tr>\n",
       "      <th>Not GradeA</th>\n",
       "      <td>280</td>\n",
       "      <td>80</td>\n",
       "    </tr>\n",
       "    <tr>\n",
       "      <th>GradeA</th>\n",
       "      <td>36</td>\n",
       "      <td>6</td>\n",
       "    </tr>\n",
       "  </tbody>\n",
       "</table>\n",
       "</div>"
      ],
      "text/plain": [
       "            Low Abanse  High Abanse\n",
       "Not GradeA         280           80\n",
       "GradeA              36            6"
      ]
     },
     "metadata": {},
     "output_type": "display_data"
    }
   ],
   "source": [
    "import numpy as np\n",
    "import pandas as pd\n",
    "\n",
    "abanse_grade_np = np.array([[280, 80], [36, 6]])\n",
    "\n",
    "abanse_grade_df = pd.DataFrame(abanse_grade_np,columns=['Low Abanse','High Abanse'],index=['Not GradeA','GradeA'])\n",
    "display(abanse_grade_df)"
   ]
  },
  {
   "cell_type": "markdown",
   "metadata": {
    "id": "tsz0nUX4cED0"
   },
   "source": [
    "In this case, we can know that \n",
    "P(A) is the probability of GradeA students.\n",
    "P(B) is the probability of High Abanse students.\n",
    "P(A|B) is the probability of GradeA students, given that who has High Abanse.\n",
    "\n",
    "As we know P(A|B) = P(A ∩ B) / P(B)"
   ]
  },
  {
   "cell_type": "code",
   "execution_count": 34,
   "metadata": {
    "colab": {
     "base_uri": "https://localhost:8080/"
    },
    "executionInfo": {
     "elapsed": 400,
     "status": "ok",
     "timestamp": 1611679163987,
     "user": {
      "displayName": "Yali Huang",
      "photoUrl": "",
      "userId": "13271621159630270554"
     },
     "user_tz": 300
    },
    "id": "IXIEHCtpZfPZ",
    "outputId": "28048dc6-e1a4-4b23-d218-b8454ea650ed"
   },
   "outputs": [
    {
     "name": "stdout",
     "output_type": "stream",
     "text": [
      "P(A) = 0.1044776119402985\r\n",
      "P(B) = 0.21393034825870647\r\n",
      "P(A ∩ B) = 0.014925373134328358 \n",
      "P(A|B) = P(A ∩ B) / P(B) = 0.06976744186046512\n"
     ]
    }
   ],
   "source": [
    "Total = abanse_grade_np[0][0] + abanse_grade_np[0][1] + abanse_grade_np[1][0] + abanse_grade_np[1][1]\n",
    "PA = (abanse_grade_np[1][0] + abanse_grade_np[1][1])/Total\n",
    "PB = (abanse_grade_np[0][1] + abanse_grade_np[1][1])/Total\n",
    "PAnB = abanse_grade_np[1][1]/Total\n",
    "P = PAnB / PB\n",
    "print(f\"P(A) = {PA}\\r\\nP(B) = {PB}\\r\\nP(A ∩ B) = {PAnB} \")\n",
    "print(f\"P(A|B) = P(A ∩ B) / P(B) = {P}\")"
   ]
  },
  {
   "cell_type": "markdown",
   "metadata": {
    "id": "auG-qz-1qex-"
   },
   "source": [
    "So, the probability of getting gradeA, given high abanse is about 7%. Pretty low, So in order to get good mark, don't abanse."
   ]
  },
  {
   "cell_type": "markdown",
   "metadata": {
    "id": "LzYJTVB2kyrh"
   },
   "source": [
    "# Confidence Factors \n",
    "\n",
    "Rule1 [A--->C] if given A we are only 70% certain of C   \n",
    "Rule2 [B--->D] if given B we are only 80% certain of D  \n",
    "\n",
    "Base on the given certain of Antecedent, calculate the certain of Consequent"
   ]
  },
  {
   "cell_type": "code",
   "execution_count": 72,
   "metadata": {
    "colab": {
     "base_uri": "https://localhost:8080/",
     "height": 171
    },
    "executionInfo": {
     "elapsed": 342,
     "status": "ok",
     "timestamp": 1611703407232,
     "user": {
      "displayName": "Yali Huang",
      "photoUrl": "",
      "userId": "13271621159630270554"
     },
     "user_tz": 300
    },
    "id": "s-ChHm0shLi7",
    "outputId": "4ce69cc5-db98-45db-e615-d1afb834c7e1"
   },
   "outputs": [
    {
     "data": {
      "text/html": [
       "<div>\n",
       "<style scoped>\n",
       "    .dataframe tbody tr th:only-of-type {\n",
       "        vertical-align: middle;\n",
       "    }\n",
       "\n",
       "    .dataframe tbody tr th {\n",
       "        vertical-align: top;\n",
       "    }\n",
       "\n",
       "    .dataframe thead th {\n",
       "        text-align: right;\n",
       "    }\n",
       "</style>\n",
       "<table border=\"1\" class=\"dataframe\">\n",
       "  <thead>\n",
       "    <tr style=\"text-align: right;\">\n",
       "      <th></th>\n",
       "      <th>Antecedent</th>\n",
       "      <th>Consequent</th>\n",
       "      <th>Certainty</th>\n",
       "    </tr>\n",
       "  </thead>\n",
       "  <tbody>\n",
       "    <tr>\n",
       "      <th>0</th>\n",
       "      <td>A</td>\n",
       "      <td>C</td>\n",
       "      <td>0.7</td>\n",
       "    </tr>\n",
       "    <tr>\n",
       "      <th>1</th>\n",
       "      <td>B</td>\n",
       "      <td>D</td>\n",
       "      <td>0.8</td>\n",
       "    </tr>\n",
       "    <tr>\n",
       "      <th>2</th>\n",
       "      <td>B</td>\n",
       "      <td>C</td>\n",
       "      <td>0.6</td>\n",
       "    </tr>\n",
       "    <tr>\n",
       "      <th>3</th>\n",
       "      <td>A</td>\n",
       "      <td>D</td>\n",
       "      <td>0.5</td>\n",
       "    </tr>\n",
       "  </tbody>\n",
       "</table>\n",
       "</div>"
      ],
      "text/plain": [
       "  Antecedent Consequent Certainty\n",
       "0          A          C       0.7\n",
       "1          B          D       0.8\n",
       "2          B          C       0.6\n",
       "3          A          D       0.5"
      ]
     },
     "metadata": {
      "tags": []
     },
     "output_type": "display_data"
    }
   ],
   "source": [
    "import pandas as pd\n",
    "rule1 = ['A', 'C', '0.7']\n",
    "rule2 = ['B', 'D', '0.8']\n",
    "rule3 = ['B', 'C', '0.6']\n",
    "rule4 = ['A', 'D', '0.5']\n",
    "confidence_factors_df = pd.DataFrame((rule1, rule2,rule3,rule4), columns=['Antecedent', 'Consequent', 'Certainty'])\n",
    "display(confidence_factors_df)"
   ]
  },
  {
   "cell_type": "code",
   "execution_count": 75,
   "metadata": {
    "colab": {
     "base_uri": "https://localhost:8080/",
     "height": 110
    },
    "executionInfo": {
     "elapsed": 346,
     "status": "ok",
     "timestamp": 1611703500618,
     "user": {
      "displayName": "Yali Huang",
      "photoUrl": "",
      "userId": "13271621159630270554"
     },
     "user_tz": 300
    },
    "id": "raMhriXwzrj2",
    "outputId": "51362827-cc0b-4fd1-f267-b2889b73ddda"
   },
   "outputs": [
    {
     "data": {
      "text/html": [
       "<div>\n",
       "<style scoped>\n",
       "    .dataframe tbody tr th:only-of-type {\n",
       "        vertical-align: middle;\n",
       "    }\n",
       "\n",
       "    .dataframe tbody tr th {\n",
       "        vertical-align: top;\n",
       "    }\n",
       "\n",
       "    .dataframe thead th {\n",
       "        text-align: right;\n",
       "    }\n",
       "</style>\n",
       "<table border=\"1\" class=\"dataframe\">\n",
       "  <thead>\n",
       "    <tr style=\"text-align: right;\">\n",
       "      <th></th>\n",
       "      <th>Antecedent</th>\n",
       "      <th>Consequent</th>\n",
       "      <th>Certainty</th>\n",
       "      <th>Evidence</th>\n",
       "      <th>Action_certainly</th>\n",
       "    </tr>\n",
       "  </thead>\n",
       "  <tbody>\n",
       "    <tr>\n",
       "      <th>0</th>\n",
       "      <td>A</td>\n",
       "      <td>C</td>\n",
       "      <td>0.7</td>\n",
       "      <td>0.9</td>\n",
       "      <td>0.63</td>\n",
       "    </tr>\n",
       "    <tr>\n",
       "      <th>3</th>\n",
       "      <td>A</td>\n",
       "      <td>D</td>\n",
       "      <td>0.5</td>\n",
       "      <td>0.9</td>\n",
       "      <td>0.45</td>\n",
       "    </tr>\n",
       "  </tbody>\n",
       "</table>\n",
       "</div>"
      ],
      "text/plain": [
       "  Antecedent Consequent Certainty  Evidence  Action_certainly\n",
       "0          A          C       0.7       0.9              0.63\n",
       "3          A          D       0.5       0.9              0.45"
      ]
     },
     "metadata": {
      "tags": []
     },
     "output_type": "display_data"
    }
   ],
   "source": [
    "# find the Consequent and calculate it's Action_certainly\n",
    "def get_certainty_by_confidencefactor(df, antecedent, evidence):\n",
    "  action_df = pd.DataFrame(df.loc[df['Antecedent']==antecedent])\n",
    "  action_df['Evidence'] = evidence\n",
    "  action_df['Action_certainly']= action_df['Certainty'].apply(lambda x: float(x)*float(evidence) ) \n",
    "  display(action_df)\n",
    "    \n",
    "get_certainty_by_confidencefactor(confidence_factors_df, 'A', evidence = 0.9)"
   ]
  },
  {
   "cell_type": "code",
   "execution_count": 76,
   "metadata": {
    "colab": {
     "base_uri": "https://localhost:8080/",
     "height": 110
    },
    "executionInfo": {
     "elapsed": 292,
     "status": "ok",
     "timestamp": 1611703504845,
     "user": {
      "displayName": "Yali Huang",
      "photoUrl": "",
      "userId": "13271621159630270554"
     },
     "user_tz": 300
    },
    "id": "sgZeoNLsAEFp",
    "outputId": "689dbcc7-0a25-451f-8a86-56e53a174fe3"
   },
   "outputs": [
    {
     "data": {
      "text/html": [
       "<div>\n",
       "<style scoped>\n",
       "    .dataframe tbody tr th:only-of-type {\n",
       "        vertical-align: middle;\n",
       "    }\n",
       "\n",
       "    .dataframe tbody tr th {\n",
       "        vertical-align: top;\n",
       "    }\n",
       "\n",
       "    .dataframe thead th {\n",
       "        text-align: right;\n",
       "    }\n",
       "</style>\n",
       "<table border=\"1\" class=\"dataframe\">\n",
       "  <thead>\n",
       "    <tr style=\"text-align: right;\">\n",
       "      <th></th>\n",
       "      <th>Antecedent</th>\n",
       "      <th>Consequent</th>\n",
       "      <th>Certainty</th>\n",
       "      <th>Evidence</th>\n",
       "      <th>Action_certainly</th>\n",
       "    </tr>\n",
       "  </thead>\n",
       "  <tbody>\n",
       "    <tr>\n",
       "      <th>1</th>\n",
       "      <td>B</td>\n",
       "      <td>D</td>\n",
       "      <td>0.8</td>\n",
       "      <td>0.88</td>\n",
       "      <td>0.704</td>\n",
       "    </tr>\n",
       "    <tr>\n",
       "      <th>2</th>\n",
       "      <td>B</td>\n",
       "      <td>C</td>\n",
       "      <td>0.6</td>\n",
       "      <td>0.88</td>\n",
       "      <td>0.528</td>\n",
       "    </tr>\n",
       "  </tbody>\n",
       "</table>\n",
       "</div>"
      ],
      "text/plain": [
       "  Antecedent Consequent Certainty  Evidence  Action_certainly\n",
       "1          B          D       0.8      0.88             0.704\n",
       "2          B          C       0.6      0.88             0.528"
      ]
     },
     "metadata": {
      "tags": []
     },
     "output_type": "display_data"
    }
   ],
   "source": [
    "get_certainty_by_confidencefactor(confidence_factors_df, 'B', evidence = 0.88)"
   ]
  }
 ],
 "metadata": {
  "colab": {
   "authorship_tag": "ABX9TyNsntKI4Zdvu3G0khRVtISK",
   "collapsed_sections": [],
   "name": "Untitled3.ipynb",
   "provenance": []
  },
  "kernelspec": {
   "display_name": "Python 3",
   "language": "python",
   "name": "python3"
  },
  "language_info": {
   "codemirror_mode": {
    "name": "ipython",
    "version": 3
   },
   "file_extension": ".py",
   "mimetype": "text/x-python",
   "name": "python",
   "nbconvert_exporter": "python",
   "pygments_lexer": "ipython3",
   "version": "3.8.5"
  },
  "varInspector": {
   "cols": {
    "lenName": 16,
    "lenType": 16,
    "lenVar": 40
   },
   "kernels_config": {
    "python": {
     "delete_cmd_postfix": "",
     "delete_cmd_prefix": "del ",
     "library": "var_list.py",
     "varRefreshCmd": "print(var_dic_list())"
    },
    "r": {
     "delete_cmd_postfix": ") ",
     "delete_cmd_prefix": "rm(",
     "library": "var_list.r",
     "varRefreshCmd": "cat(var_dic_list()) "
    }
   },
   "types_to_exclude": [
    "module",
    "function",
    "builtin_function_or_method",
    "instance",
    "_Feature"
   ],
   "window_display": false
  }
 },
 "nbformat": 4,
 "nbformat_minor": 1
}
